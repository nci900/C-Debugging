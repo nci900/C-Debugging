{
 "cells": [
  {
   "cell_type": "raw",
   "metadata": {},
   "source": [
    "######################################################################\n",
    "# This material is prepared for a training workshop that is conducted \n",
    "# based on job executions on Gadi, a cluster hosted at NCI, Australia. \n",
    "# Refactoring is most likely needed before running on a different \n",
    "# machine.\n",
    "#\n",
    "# Stephen Sanderson 2023\n",
    "######################################################################"
   ]
  },
  {
   "cell_type": "markdown",
   "metadata": {},
   "source": [
    "# Debugging C"
   ]
  },
  {
   "cell_type": "code",
   "execution_count": null,
   "metadata": {},
   "outputs": [],
   "source": [
    "import os\n",
    "# The jupyter notebook is launched from your $HOME directory.\n",
    "# Change the working directory to the C-Debugging directory\n",
    "# which was created in your username directory under /scratch/vp91\n",
    "os.chdir(os.path.expandvars(\"/scratch/vp91/$USER/C-Debugging/\"))"
   ]
  },
  {
   "cell_type": "markdown",
   "metadata": {},
   "source": [
    "## 1. gdb\n",
    "To use `gdb`, first we need to compile with debug symbols (`-g` flag)"
   ]
  },
  {
   "cell_type": "code",
   "execution_count": null,
   "metadata": {},
   "outputs": [],
   "source": [
    "!gcc test_gdb.c list.c -o test_gdb -g -Wall -Wextra -Wpedantic"
   ]
  },
  {
   "cell_type": "markdown",
   "metadata": {},
   "source": [
    "Now run under `gdb` with `gdb ./test_gdb`. This doesn't work nicely in a Jupyter notebook, so easiest to use a Gadi terminal, `cd` into `/scratch/vp91/$USER/C-Debugging`, and run the command there.\n",
    "\n",
    "It can be useful to have the source code ([test_gdb.c](./test_gdb.c) and [list.c](./list.c)) open at the same time to help keep track of where you're up to as the program runs.\n",
    "\n",
    "Check [here](http://users.ece.utexas.edu/~adnan/gdb-refcard.pdf) for a handy `gdb` command reference."
   ]
  },
  {
   "cell_type": "markdown",
   "metadata": {},
   "source": [
    "### 1.1 list_pop()\n",
    "Next, let's add the `list_pop` method to [list.c](./list.c) and [list.h](./list.h) and check using `gdb` whether it's working correctly.\n",
    "\n",
    "It should have the signature:\n",
    "```C\n",
    "double list_pop(List* list, const size_t index);\n",
    "```\n",
    "That is, it takes a list and an index, removes the item at `index` from the list, and returns that item."
   ]
  },
  {
   "cell_type": "code",
   "execution_count": null,
   "metadata": {},
   "outputs": [],
   "source": [
    "!gcc test_list_pop.c list.c -o test_list_pop -g -Wall -Wextra -Wpedantic"
   ]
  },
  {
   "cell_type": "markdown",
   "metadata": {},
   "source": [
    "## 2. valgrind\n",
    "`valgrind` also makes use of the `-g` flag to give more useful diagnostic messages.\n",
    "\n",
    "Firstly, try changing [test_list_pop.c](./test_list_pop.c) to pop element 10. This is 1 element beyond the length of the list, but let's see what hapens.\n",
    "\n",
    "After making the change, recompile with:"
   ]
  },
  {
   "cell_type": "code",
   "execution_count": null,
   "metadata": {},
   "outputs": [],
   "source": [
    "!gcc test_list_pop.c list2.c -o test_list_pop2 -g -Wall -Wextra -Wpedantic"
   ]
  },
  {
   "cell_type": "markdown",
   "metadata": {},
   "source": [
    "Running normally, it looks like it just popped the last element, like we may be expecting if we didn't realise that 10 was one beyond the length of the array."
   ]
  },
  {
   "cell_type": "code",
   "execution_count": null,
   "metadata": {},
   "outputs": [],
   "source": [
    "!./test_list_pop2"
   ]
  },
  {
   "cell_type": "markdown",
   "metadata": {},
   "source": [
    "Now try running with `valgrind` (or equivalently, `valgrind --tool=memcheck`)"
   ]
  },
  {
   "cell_type": "code",
   "execution_count": null,
   "metadata": {},
   "outputs": [],
   "source": [
    "!valgrind --tool=memcheck ./test_list_pop2"
   ]
  },
  {
   "cell_type": "markdown",
   "metadata": {},
   "source": [
    "We have an invalid read! When we read `list->data[index]`, `index` is larger than the allocated space for `list->data`, so we're accessing invalid memory which is certainly a bug!\n",
    "\n",
    "`valgrind` is also good at detecting memory leaks. Try commenting out the `list_destroy(&squares)` line and see what happens when you compile and re-run:"
   ]
  },
  {
   "cell_type": "code",
   "execution_count": null,
   "metadata": {},
   "outputs": [],
   "source": [
    "!gcc test_list_pop.c list2.c -o test_list_pop3 -g -Wall -Wextra -Wpedantic"
   ]
  },
  {
   "cell_type": "code",
   "execution_count": null,
   "metadata": {},
   "outputs": [],
   "source": [
    "!./test_list_pop3"
   ]
  },
  {
   "cell_type": "code",
   "execution_count": null,
   "metadata": {},
   "outputs": [],
   "source": [
    "!valgrind ./test_list_pop3"
   ]
  },
  {
   "cell_type": "markdown",
   "metadata": {},
   "source": [
    "Notice the `LEAK SUMMARY` section. It says we've definitely lost 72 bytes, which is exactly the size of the list after one element has been removed (8 bytes per item * 9 items). This is because without the call to `list_destroy`, the heap memory used by the list is never freed.\n",
    "\n",
    "While running under `valgrind` is slower than normal execution, it can be a useful way of detecting potential bugs, including ones that may be inconsequential now, but end up causing problems later as the code evolves."
   ]
  },
  {
   "cell_type": "markdown",
   "metadata": {},
   "source": [
    "### 2.1 Debugging a Finite Difference Code\n",
    "[finite_difference.c](./finite_difference.c) contains some code for calculating the derivative of a function over a given range and saving it to a .csv file, but it contains some bugs!\n",
    "\n",
    "Using `gdb` and `valgrind`, see if you can get it working correctly.\n",
    "You can check a plot of the result with the python block below.\n",
    "\n",
    "Also note in the compile command below that we're using the `-lm` flag to link the math library (accessed via `math.h`)."
   ]
  },
  {
   "cell_type": "code",
   "execution_count": null,
   "metadata": {},
   "outputs": [],
   "source": [
    "!gcc finite_difference.c -o finite_difference -g -lm -Wall -Wextra -Wpedantic"
   ]
  },
  {
   "cell_type": "code",
   "execution_count": null,
   "metadata": {},
   "outputs": [],
   "source": [
    "!./finite_difference fd_output.csv"
   ]
  },
  {
   "cell_type": "code",
   "execution_count": null,
   "metadata": {},
   "outputs": [],
   "source": [
    "from numpy import genfromtxt\n",
    "import matplotlib.pyplot as plt\n",
    "data = genfromtxt('fd_output.csv', delimiter=',')\n",
    "plt.plot(data[:,0], data[:,1], label='y(x)')\n",
    "plt.plot(data[:,0], data[:,2], label=\"y'(x)\")\n",
    "plt.legend()\n",
    "plt.xlabel('x')\n",
    "plt.ylabel('y')"
   ]
  },
  {
   "cell_type": "markdown",
   "metadata": {
    "jp-MarkdownHeadingCollapsed": true,
    "tags": []
   },
   "source": [
    "#### HINT:"
   ]
  },
  {
   "cell_type": "markdown",
   "metadata": {},
   "source": [
    "Finite difference stencils are:\n",
    "* Forward: f'(x) = (f(x+h) - f(x)) / h\n",
    "* Backward: f'(x) = (f(x) - f(x-h)) / h\n",
    "* Central: f'(x) = (f(x+h) - f(x-h)) / 2h"
   ]
  },
  {
   "cell_type": "markdown",
   "metadata": {},
   "source": [
    "## 3. Arm Forge\n",
    "Edit [test_list_insert.c](./test_list_insert.c) to add a `list_insert` function, which inserts a new element into the list. For example:\n",
    "```C\n",
    "// list contains [1.0, 2.0, 3.0]\n",
    "list_insert(&list, 1, 1.5);\n",
    "// list contains [1.0, 1.5, 2.0, 3.0]\n",
    "```\n",
    "The function signature should be:\n",
    "```C\n",
    "void list_insert(List* list, size_t index, double value);\n",
    "```\n",
    "\n",
    "Try debugging with Arm Forge to fix any issues and verify that it's working correctly without any memory bugs.\n",
    "\n",
    "See the workshop slides for instructions on how to access Arm Forge."
   ]
  },
  {
   "cell_type": "code",
   "execution_count": null,
   "metadata": {},
   "outputs": [],
   "source": [
    "!gcc test_list_insert.c list2.c -o test_list_insert -g -Wall -Wextra -Wpedantic"
   ]
  },
  {
   "cell_type": "code",
   "execution_count": null,
   "metadata": {},
   "outputs": [],
   "source": [
    "!./test_list_insert"
   ]
  },
  {
   "cell_type": "markdown",
   "metadata": {},
   "source": [
    "### 3.1 Multithreading\n",
    "[test_threaded.c](./test_threaded.c) contains a simple multithreaded summing routine.\n",
    "Try compiling it with the command below and running it within Arm Forge to test out its tools for debugging with multiple threads."
   ]
  },
  {
   "cell_type": "code",
   "execution_count": null,
   "metadata": {},
   "outputs": [],
   "source": [
    "!gcc test_threaded.c -o test_threaded -g -Wall -Wextra -Wpedantic -lpthread"
   ]
  },
  {
   "cell_type": "code",
   "execution_count": null,
   "metadata": {},
   "outputs": [],
   "source": [
    "!./test_threaded"
   ]
  }
 ],
 "metadata": {
  "interpreter": {
   "hash": "767d51c1340bd893661ea55ea3124f6de3c7a262a8b4abca0554b478b1e2ff90"
  },
  "kernelspec": {
   "display_name": "Python 3 (ipykernel)",
   "language": "python",
   "name": "python3"
  },
  "language_info": {
   "codemirror_mode": {
    "name": "ipython",
    "version": 3
   },
   "file_extension": ".py",
   "mimetype": "text/x-python",
   "name": "python",
   "nbconvert_exporter": "python",
   "pygments_lexer": "ipython3",
   "version": "3.9.2"
  }
 },
 "nbformat": 4,
 "nbformat_minor": 4
}
